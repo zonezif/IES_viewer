{
 "cells": [
  {
   "cell_type": "code",
   "execution_count": 81,
   "metadata": {},
   "outputs": [
    {
     "name": "stdout",
     "output_type": "stream",
     "text": [
      "180\n"
     ]
    }
   ],
   "source": [
    "with open(\"m1.ies\") as f:\n",
    "    reader = f.read()\n",
    "\n",
    "x = reader.split(\"\\n\")\n",
    "\n",
    "dic={}\n",
    "info=[]\n",
    "data=[]\n",
    "for i, j in zip(x, range(len(x))):\n",
    "    if(i==\"TILT=NONE\"):\n",
    "        info=x[1:j]\n",
    "        data=x[1+j:]\n",
    "    \n",
    "for i in info:\n",
    "    dic[i.split(' ',1)[0]]=i.split(' ',1)[1]\n",
    "    \n",
    "    \n",
    "    \n",
    "print(len(data[2].split())-1)"
   ]
  }
 ],
 "metadata": {
  "kernelspec": {
   "display_name": "Python 3.10.6 64-bit",
   "language": "python",
   "name": "python3"
  },
  "language_info": {
   "codemirror_mode": {
    "name": "ipython",
    "version": 3
   },
   "file_extension": ".py",
   "mimetype": "text/x-python",
   "name": "python",
   "nbconvert_exporter": "python",
   "pygments_lexer": "ipython3",
   "version": "3.10.6"
  },
  "orig_nbformat": 4,
  "vscode": {
   "interpreter": {
    "hash": "4bb5541f6a2914ae2f88523c7e954291c8176a23fb627e916adadf83892b2e44"
   }
  }
 },
 "nbformat": 4,
 "nbformat_minor": 2
}
